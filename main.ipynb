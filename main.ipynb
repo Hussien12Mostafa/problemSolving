{
 "cells": [
  {
   "cell_type": "code",
   "execution_count": null,
   "metadata": {},
   "outputs": [],
   "source": [
    "#791A\n",
    "user_input = input()\n",
    "user_input=user_input.split()\n",
    "x=  int( user_input[0])\n",
    "y=  int( user_input[1])\n",
    "count=0\n",
    "while x<y:\n",
    "    x*=3\n",
    "    y*=2\n",
    "    count+=1\n",
    "print(count)"
   ]
  },
  {
   "cell_type": "code",
   "execution_count": null,
   "metadata": {},
   "outputs": [],
   "source": []
  }
 ],
 "metadata": {
  "language_info": {
   "name": "python"
  }
 },
 "nbformat": 4,
 "nbformat_minor": 2
}
